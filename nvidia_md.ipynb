{
 "cells": [
  {
   "cell_type": "code",
   "execution_count": null,
   "metadata": {},
   "outputs": [],
   "source": [
    "import os\n",
    "import sys\n",
    "sys.path.append('D:\\ProgramData\\Anaconda3\\envs\\KKeras\\Lib\\site-packages')\n",
    "import csv\n",
    "import cv2\n",
    "import matplotlib.pyplot as plt\n",
    "import numpy as np\n"
   ]
  },
  {
   "cell_type": "code",
   "execution_count": null,
   "metadata": {},
   "outputs": [],
   "source": [
    "print(os.path.abspath('__file__'))\n",
    "\n",
    "lines = []\n",
    "with open('./data/driving_log.csv') as csvfile:  # 相对路径，用./\n",
    "    csvsheet = csv.reader(csvfile)\n",
    "    for line in csvsheet:\n",
    "        lines.append(line)\n",
    "\n",
    "lines = lines[1:-1]  # Remove the title line\n",
    "print(lines[0]) # show the first effective data, the structure should be \n",
    "                # [center pic], [left pic], [right pic], [steering],[throttle],[brake],[speed]"
   ]
  },
  {
   "cell_type": "code",
   "execution_count": null,
   "metadata": {},
   "outputs": [],
   "source": [
    "images = []\n",
    "images_rz = []\n",
    "measurements = []\n",
    "for line in lines:\n",
    "    source_path = line[0]       # 看CSV，表里面第一项是地址\n",
    "    #print(source_path)\n",
    "    pic_name = source_path.split('/')[-1] #被‘/’分割后的最后一项\n",
    "    #print(pic_name)\n",
    "    current_path ='./data/IMG/'+pic_name\n",
    "    image = cv2.imread(current_path)\n",
    "    image = cv2.cvtColor(image, cv2.COLOR_BGR2RGB)# 因为cv2读取的是BGR因此要转换成RGB显示才正常,包括drive.py使用也是\n",
    "  #  image_rz = cv2.resize(image,(160,160),cv2.INTER_AREA) #取中间有效部分然后缩放\n",
    "  #  images_rz.append(image_rz)\n",
    "    images.append(image)\n",
    "    measurement = float(line[3])\n",
    "    measurements.append(measurement) # get all the steering angle"
   ]
  },
  {
   "cell_type": "code",
   "execution_count": null,
   "metadata": {},
   "outputs": [],
   "source": [
    "plt.imshow(images[1]) \n",
    "plt.title('Example of input image')\n",
    "plt.show()\n",
    "\n",
    "#plt.imshow(images_rz[1]) \n",
    "#plt.title('Example after Resize')\n",
    "#plt.show()"
   ]
  },
  {
   "cell_type": "code",
   "execution_count": null,
   "metadata": {},
   "outputs": [],
   "source": [
    "X_train = np.array(images)\n",
    "#X_train = np.array(images)\n",
    "Y_train = np.array(measurements)"
   ]
  },
  {
   "cell_type": "markdown",
   "metadata": {},
   "source": [
    "## 数据准备完毕，开始构建网络"
   ]
  },
  {
   "cell_type": "code",
   "execution_count": null,
   "metadata": {},
   "outputs": [],
   "source": [
    "from keras.models import Sequential\n",
    "from keras.layers import Flatten, Dense, Lambda, Dropout\n",
    "from keras.layers.convolutional import Convolution2D, Conv2D\n",
    "from keras.layers.pooling import MaxPooling2D\n",
    "from keras.layers import Cropping2D\n"
   ]
  },
  {
   "cell_type": "code",
   "execution_count": null,
   "metadata": {},
   "outputs": [],
   "source": [
    "#Build Model\n",
    "model = Sequential()\n",
    "#Pre-processing\n",
    "model.add(Lambda(lambda x: x / 255 - 0.5, input_shape=(160,320,3)))\n",
    "model.add(Cropping2D(cropping=((50, 20), (0, 0))))\n",
    "# NIVIDIA End to End Learning for Self-Driving Cars， Figure（4）\n",
    "# First Conv, 24*5*5\n",
    "model.add(Conv2D(24, 5, strides=(2, 2), activation='relu'))\n",
    "model.add(Dropout(0.7))\n",
    "# Second Conv, 36*5*5\n",
    "model.add(Conv2D(36, 5, strides=(2, 2), activation='relu'))\n",
    "# Thrid Conv, 48*5*5\n",
    "model.add(Conv2D(48, 5, strides=(2, 2), activation='relu'))\n",
    "# Fourth Conv, 64*5*5\n",
    "model.add(Conv2D(64, 3, activation='relu'))\n",
    "model.add(Conv2D(64, 3, activation='relu'))\n",
    "model.add(Flatten())\n",
    "# Four Fully-Connected layers\n",
    "model.add(Dense(100))\n",
    "model.add(Dense(50))\n",
    "model.add(Dense(10))\n",
    "model.add(Dense(1))"
   ]
  },
  {
   "cell_type": "code",
   "execution_count": null,
   "metadata": {},
   "outputs": [],
   "source": [
    "#Run the Model\n",
    "model.compile(loss = 'mse', optimizer = 'adam') #Regression问题，而不是Classification问\n",
    "\n",
    "history_object = model.fit(X_train, Y_train,validation_split = 0.2, shuffle = True, epochs = 5, verbose = 1)\n",
    "\n",
    "print(history_object.history.keys())\n",
    "### plot the training and validation loss for each epoch\n",
    "plt.plot(history_object.history['loss'])\n",
    "plt.plot(history_object.history['val_loss'])\n",
    "plt.title('model mean squared error loss')\n",
    "plt.ylabel('mean squared error loss')\n",
    "plt.xlabel('epoch')\n",
    "plt.legend(['training set', 'validation set'], loc='upper right')\n",
    "plt.show()\n",
    "\n",
    "\n",
    "model.save('model.h5')"
   ]
  },
  {
   "cell_type": "code",
   "execution_count": null,
   "metadata": {},
   "outputs": [],
   "source": []
  }
 ],
 "metadata": {
  "kernelspec": {
   "display_name": "Python [conda env:KKeras]",
   "language": "python",
   "name": "conda-env-KKeras-py"
  },
  "language_info": {
   "codemirror_mode": {
    "name": "ipython",
    "version": 3
   },
   "file_extension": ".py",
   "mimetype": "text/x-python",
   "name": "python",
   "nbconvert_exporter": "python",
   "pygments_lexer": "ipython3",
   "version": "3.5.5"
  }
 },
 "nbformat": 4,
 "nbformat_minor": 2
}
